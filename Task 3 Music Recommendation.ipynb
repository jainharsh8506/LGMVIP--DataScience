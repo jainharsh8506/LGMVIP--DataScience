{
 "cells": [
  {
   "cell_type": "markdown",
   "id": "5f424fcb",
   "metadata": {},
   "source": [
    "# # Task 3 Music Recommendation\n",
    "### Harsh Jain"
   ]
  },
  {
   "cell_type": "code",
   "execution_count": 37,
   "id": "9827e4f5",
   "metadata": {},
   "outputs": [],
   "source": [
    "import numpy as np\n",
    "import pandas as pd\n",
    "from typing import List, Dict\n",
    "from tokenize import tokenize, untokenize, NUMBER, STRING, NAME, OP"
   ]
  },
  {
   "cell_type": "code",
   "execution_count": 38,
   "id": "ec760d66",
   "metadata": {},
   "outputs": [],
   "source": [
    "from sklearn.feature_extraction.text import TfidfVectorizer\n",
    "from sklearn.metrics.pairwise import cosine_similarity"
   ]
  },
  {
   "cell_type": "code",
   "execution_count": 39,
   "id": "d6bcb7bd",
   "metadata": {},
   "outputs": [],
   "source": [
    "path='songdata.csv'"
   ]
  },
  {
   "cell_type": "code",
   "execution_count": 40,
   "id": "f26a266f",
   "metadata": {},
   "outputs": [
    {
     "data": {
      "text/html": [
       "<div>\n",
       "<style scoped>\n",
       "    .dataframe tbody tr th:only-of-type {\n",
       "        vertical-align: middle;\n",
       "    }\n",
       "\n",
       "    .dataframe tbody tr th {\n",
       "        vertical-align: top;\n",
       "    }\n",
       "\n",
       "    .dataframe thead th {\n",
       "        text-align: right;\n",
       "    }\n",
       "</style>\n",
       "<table border=\"1\" class=\"dataframe\">\n",
       "  <thead>\n",
       "    <tr style=\"text-align: right;\">\n",
       "      <th></th>\n",
       "      <th>artist</th>\n",
       "      <th>song</th>\n",
       "      <th>link</th>\n",
       "      <th>text</th>\n",
       "    </tr>\n",
       "  </thead>\n",
       "  <tbody>\n",
       "    <tr>\n",
       "      <th>0</th>\n",
       "      <td>ABBA</td>\n",
       "      <td>Ahe's My Kind Of Girl</td>\n",
       "      <td>/a/abba/ahes+my+kind+of+girl_20598417.html</td>\n",
       "      <td>Look at her face, it's a wonderful face  \\nAnd...</td>\n",
       "    </tr>\n",
       "    <tr>\n",
       "      <th>1</th>\n",
       "      <td>ABBA</td>\n",
       "      <td>Andante, Andante</td>\n",
       "      <td>/a/abba/andante+andante_20002708.html</td>\n",
       "      <td>Take it easy with me, please  \\nTouch me gentl...</td>\n",
       "    </tr>\n",
       "    <tr>\n",
       "      <th>2</th>\n",
       "      <td>ABBA</td>\n",
       "      <td>As Good As New</td>\n",
       "      <td>/a/abba/as+good+as+new_20003033.html</td>\n",
       "      <td>I'll never know why I had to go  \\nWhy I had t...</td>\n",
       "    </tr>\n",
       "    <tr>\n",
       "      <th>3</th>\n",
       "      <td>ABBA</td>\n",
       "      <td>Bang</td>\n",
       "      <td>/a/abba/bang_20598415.html</td>\n",
       "      <td>Making somebody happy is a question of give an...</td>\n",
       "    </tr>\n",
       "    <tr>\n",
       "      <th>4</th>\n",
       "      <td>ABBA</td>\n",
       "      <td>Bang-A-Boomerang</td>\n",
       "      <td>/a/abba/bang+a+boomerang_20002668.html</td>\n",
       "      <td>Making somebody happy is a question of give an...</td>\n",
       "    </tr>\n",
       "  </tbody>\n",
       "</table>\n",
       "</div>"
      ],
      "text/plain": [
       "  artist                   song                                        link  \\\n",
       "0   ABBA  Ahe's My Kind Of Girl  /a/abba/ahes+my+kind+of+girl_20598417.html   \n",
       "1   ABBA       Andante, Andante       /a/abba/andante+andante_20002708.html   \n",
       "2   ABBA         As Good As New        /a/abba/as+good+as+new_20003033.html   \n",
       "3   ABBA                   Bang                  /a/abba/bang_20598415.html   \n",
       "4   ABBA       Bang-A-Boomerang      /a/abba/bang+a+boomerang_20002668.html   \n",
       "\n",
       "                                                text  \n",
       "0  Look at her face, it's a wonderful face  \\nAnd...  \n",
       "1  Take it easy with me, please  \\nTouch me gentl...  \n",
       "2  I'll never know why I had to go  \\nWhy I had t...  \n",
       "3  Making somebody happy is a question of give an...  \n",
       "4  Making somebody happy is a question of give an...  "
      ]
     },
     "execution_count": 40,
     "metadata": {},
     "output_type": "execute_result"
    }
   ],
   "source": [
    "df = pd.read_csv(path,quoting=0 )\n",
    "df.head()"
   ]
  },
  {
   "cell_type": "code",
   "execution_count": 41,
   "id": "e2161c00",
   "metadata": {},
   "outputs": [],
   "source": [
    "df = df.sample(n=5000).drop('link', axis=1).reset_index(drop=True)"
   ]
  },
  {
   "cell_type": "code",
   "execution_count": 42,
   "id": "a9715c5e",
   "metadata": {},
   "outputs": [
    {
     "name": "stderr",
     "output_type": "stream",
     "text": [
      "C:\\Users\\anany\\AppData\\Local\\Temp/ipykernel_12532/57601187.py:1: FutureWarning: The default value of regex will change from True to False in a future version.\n",
      "  df['text'] = df['text'].str.replace(r'\\n', '')\n"
     ]
    }
   ],
   "source": [
    "df['text'] = df['text'].str.replace(r'\\n', '')\n",
    "tf = TfidfVectorizer(analyzer='word', stop_words='english')"
   ]
  },
  {
   "cell_type": "code",
   "execution_count": 43,
   "id": "ac18289a",
   "metadata": {},
   "outputs": [
    {
     "data": {
      "text/plain": [
       "TfidfVectorizer(stop_words='english')"
      ]
     },
     "execution_count": 43,
     "metadata": {},
     "output_type": "execute_result"
    }
   ],
   "source": [
    "tf"
   ]
  },
  {
   "cell_type": "code",
   "execution_count": 44,
   "id": "4b0be442",
   "metadata": {},
   "outputs": [],
   "source": [
    "lyrmatrix = tf.fit_transform(df['text'].values.astype('U'))"
   ]
  },
  {
   "cell_type": "code",
   "execution_count": 45,
   "id": "2bf8983f",
   "metadata": {},
   "outputs": [],
   "source": [
    "cs = cosine_similarity(lyrmatrix)\n",
    "similarities={}"
   ]
  },
  {
   "cell_type": "code",
   "execution_count": 46,
   "id": "a7c764b6",
   "metadata": {},
   "outputs": [],
   "source": [
    "for i in range(len(cs)):\n",
    "    # Now we'll sort each element in cosine_similarities and get the indexes of the songs. \n",
    "    similar_indices = cs[i].argsort()[:-50:-1] \n",
    "    # After that, we'll store in similarities each name of the 50 most similar songs.\n",
    "    # Except the first one that is the same song.\n",
    "    similarities[df['song'].iloc[i]] = [(cs[i][x], df['song'][x], df['artist'][x]) for x in similar_indices][1:]"
   ]
  },
  {
   "cell_type": "code",
   "execution_count": 47,
   "id": "c6db50a9",
   "metadata": {},
   "outputs": [],
   "source": [
    "class Recommender:\n",
    "    def __init__(self, matrix):\n",
    "        self.matrix_similar = matrix\n",
    "\n",
    "    def _print_message(self, song, recom_song):\n",
    "        rec_items = len(recom_song)\n",
    "        \n",
    "        print(f'The {rec_items} recommended songs for {song} are:')\n",
    "        for i in range(rec_items):\n",
    "            print(f\"Number {i+1}:\")\n",
    "            print(f\"{recom_song[i][1]} by {recom_song[i][2]} with {round(recom_song[i][0], 3)} similarity score\") \n",
    "            print(\"--------------------\")\n",
    "        \n",
    "    def recommend(self, recommendation):\n",
    "        # Get song to find recommendations for\n",
    "        song = recommendation['song']\n",
    "        # Get number of songs to recommend\n",
    "        number_songs = recommendation['number_songs']\n",
    "        # Get the number of songs most similars from matrix similarities\n",
    "        recom_song = self.matrix_similar[song][:number_songs]\n",
    "        # print each item\n",
    "        self._print_message(song=song, recom_song=recom_song)"
   ]
  },
  {
   "cell_type": "code",
   "execution_count": 48,
   "id": "bf99cfcd",
   "metadata": {},
   "outputs": [],
   "source": [
    "recs= Recommender(similarities)"
   ]
  },
  {
   "cell_type": "code",
   "execution_count": 49,
   "id": "d65d55de",
   "metadata": {},
   "outputs": [],
   "source": [
    "rec = {\n",
    "    \"song\": df['song'].iloc[16],\n",
    "    \"number_songs\": 4\n",
    "}"
   ]
  },
  {
   "cell_type": "code",
   "execution_count": 50,
   "id": "023c9844",
   "metadata": {},
   "outputs": [
    {
     "name": "stdout",
     "output_type": "stream",
     "text": [
      "The 4 recommended songs for She's Alright are:\n",
      "Number 1:\n",
      "Ain't It Funny by Loretta Lynn with 0.28 similarity score\n",
      "--------------------\n",
      "Number 2:\n",
      "Not That Funny by Fleetwood Mac with 0.243 similarity score\n",
      "--------------------\n",
      "Number 3:\n",
      "I've Got A Funny Feeling by George Strait with 0.231 similarity score\n",
      "--------------------\n",
      "Number 4:\n",
      "At This Time by Pat Benatar with 0.217 similarity score\n",
      "--------------------\n"
     ]
    }
   ],
   "source": [
    "recs.recommend(rec)"
   ]
  },
  {
   "cell_type": "code",
   "execution_count": null,
   "id": "9617f87a",
   "metadata": {},
   "outputs": [],
   "source": []
  }
 ],
 "metadata": {
  "kernelspec": {
   "display_name": "Python 3 (ipykernel)",
   "language": "python",
   "name": "python3"
  },
  "language_info": {
   "codemirror_mode": {
    "name": "ipython",
    "version": 3
   },
   "file_extension": ".py",
   "mimetype": "text/x-python",
   "name": "python",
   "nbconvert_exporter": "python",
   "pygments_lexer": "ipython3",
   "version": "3.9.12"
  }
 },
 "nbformat": 4,
 "nbformat_minor": 5
}
