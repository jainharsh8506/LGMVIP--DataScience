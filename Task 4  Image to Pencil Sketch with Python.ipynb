{
 "cells": [
  {
   "cell_type": "markdown",
   "id": "7fb53374",
   "metadata": {},
   "source": [
    "# # Task-4: Image to Pencil Sketch with Python"
   ]
  },
  {
   "cell_type": "markdown",
   "id": "ded6b965",
   "metadata": {},
   "source": [
    "### Harsh Jain"
   ]
  },
  {
   "cell_type": "code",
   "execution_count": 3,
   "id": "843975e5",
   "metadata": {},
   "outputs": [],
   "source": [
    "import cv2"
   ]
  },
  {
   "cell_type": "code",
   "execution_count": 4,
   "id": "507685db",
   "metadata": {},
   "outputs": [],
   "source": [
    "filename = 'image.jpg'"
   ]
  },
  {
   "cell_type": "code",
   "execution_count": 5,
   "id": "67306b32",
   "metadata": {},
   "outputs": [],
   "source": [
    "#read the image\n",
    "input_img = cv2.imread(filename)"
   ]
  },
  {
   "cell_type": "code",
   "execution_count": 6,
   "id": "352bf3b4",
   "metadata": {},
   "outputs": [],
   "source": [
    "#convert the image to gray scale\n",
    "gray_image = cv2.cvtColor(input_img, cv2.COLOR_BGR2GRAY)"
   ]
  },
  {
   "cell_type": "code",
   "execution_count": 7,
   "id": "c91048f0",
   "metadata": {},
   "outputs": [],
   "source": [
    "#invert the image\n",
    "inverted_gray_image = 255 - gray_image"
   ]
  },
  {
   "cell_type": "code",
   "execution_count": 8,
   "id": "27d2ded5",
   "metadata": {},
   "outputs": [],
   "source": [
    "#blur the image by gaussian blur\n",
    "blurred_image = cv2.GaussianBlur(inverted_gray_image, (21, 21), 0)"
   ]
  },
  {
   "cell_type": "code",
   "execution_count": 10,
   "id": "ace1727b",
   "metadata": {},
   "outputs": [],
   "source": [
    "#invert the blurred image\n",
    "inverted_blurred_image = 255 - blurred_image"
   ]
  },
  {
   "cell_type": "code",
   "execution_count": 11,
   "id": "fed4700e",
   "metadata": {},
   "outputs": [],
   "source": [
    "#create the pencil sketch image\n",
    "pencil_sketch_image = cv2.divide(gray_image, inverted_blurred_image, scale = 256.0)"
   ]
  },
  {
   "cell_type": "code",
   "execution_count": 12,
   "id": "8dee68bc",
   "metadata": {},
   "outputs": [],
   "source": [
    "#show the various images\n",
    "cv2.imshow('RGB Image', input_img)\n",
    "cv2.imshow('Gray_image', gray_image)\n",
    "cv2.imshow('Inverted Image',inverted_gray_image)"
   ]
  },
  {
   "cell_type": "code",
   "execution_count": 13,
   "id": "474f1f46",
   "metadata": {},
   "outputs": [],
   "source": [
    "cv2.imshow('Pencil Sketch', pencil_sketch_image)"
   ]
  },
  {
   "cell_type": "code",
   "execution_count": 14,
   "id": "dd2025f8",
   "metadata": {},
   "outputs": [
    {
     "data": {
      "text/plain": [
       "-1"
      ]
     },
     "execution_count": 14,
     "metadata": {},
     "output_type": "execute_result"
    }
   ],
   "source": [
    "cv2.waitKey(0)"
   ]
  },
  {
   "cell_type": "code",
   "execution_count": null,
   "id": "83ffe943",
   "metadata": {},
   "outputs": [],
   "source": []
  }
 ],
 "metadata": {
  "kernelspec": {
   "display_name": "Python 3 (ipykernel)",
   "language": "python",
   "name": "python3"
  },
  "language_info": {
   "codemirror_mode": {
    "name": "ipython",
    "version": 3
   },
   "file_extension": ".py",
   "mimetype": "text/x-python",
   "name": "python",
   "nbconvert_exporter": "python",
   "pygments_lexer": "ipython3",
   "version": "3.9.12"
  }
 },
 "nbformat": 4,
 "nbformat_minor": 5
}
