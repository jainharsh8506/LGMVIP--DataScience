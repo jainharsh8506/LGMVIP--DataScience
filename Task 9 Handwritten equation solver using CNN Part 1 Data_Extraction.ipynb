{
 "cells": [
  {
   "cell_type": "markdown",
   "id": "850140b5",
   "metadata": {},
   "source": [
    "# LGM VIP JULY 2022 \n",
    "## Task 9 Handwritten equation solver using CNN\n",
    "Name: Harsh Jain \n",
    "DatasetLink: https://www.kaggle.com/xainano/handwrittenmathsymbols "
   ]
  },
  {
   "cell_type": "markdown",
   "id": "84fa9f22",
   "metadata": {},
   "source": [
    "## Part 1- Data Extraction"
   ]
  },
  {
   "cell_type": "code",
   "execution_count": 1,
   "id": "509e4a12",
   "metadata": {},
   "outputs": [],
   "source": [
    "# importing libraries\n",
    "import numpy as np\n",
    "import cv2\n",
    "from PIL import Image\n",
    "from matplotlib import pyplot as plt\n",
    "%matplotlib inline\n",
    "import os\n",
    "from os import listdir\n",
    "from os.path import isfile, join\n",
    "import pandas as pd"
   ]
  },
  {
   "cell_type": "code",
   "execution_count": 2,
   "id": "4c7027da",
   "metadata": {},
   "outputs": [],
   "source": [
    "def load_images_from_folder(folder):\n",
    "    train_data=[]\n",
    "    for filename in os.listdir(folder):\n",
    "        img = cv2.imread(os.path.join(folder,filename),cv2.IMREAD_GRAYSCALE)\n",
    "        img=~img\n",
    "        if img is not None:\n",
    "            ret,thresh=cv2.threshold(img,127,255,cv2.THRESH_BINARY)\n",
    "\n",
    "            ctrs,ret=cv2.findContours(thresh,cv2.RETR_EXTERNAL,cv2.CHAIN_APPROX_NONE)\n",
    "            cnt=sorted(ctrs, key=lambda ctr: cv2.boundingRect(ctr)[0])\n",
    "            w=int(28)\n",
    "            h=int(28)\n",
    "            maxi=0\n",
    "            for c in cnt:\n",
    "                x,y,w,h=cv2.boundingRect(c)\n",
    "                maxi=max(w*h,maxi)\n",
    "                if maxi==w*h:\n",
    "                    x_max=x\n",
    "                    y_max=y\n",
    "                    w_max=w\n",
    "                    h_max=h\n",
    "            im_crop= thresh[y_max:y_max+h_max+10, x_max:x_max+w_max+10]\n",
    "            im_resize = cv2.resize(im_crop,(28,28))\n",
    "            im_resize=np.reshape(im_resize,(784,1))\n",
    "            train_data.append(im_resize)\n",
    "    return train_data"
   ]
  },
  {
   "cell_type": "code",
   "execution_count": 3,
   "id": "f51b202e",
   "metadata": {},
   "outputs": [],
   "source": [
    "data=[]"
   ]
  },
  {
   "cell_type": "code",
   "execution_count": null,
   "id": "30982a6a",
   "metadata": {},
   "outputs": [],
   "source": [
    "#assign + = 11\n",
    "data11=load_images_from_folder('D:\\\\LGMVIP-Data Science\\\\Advanced Level Task\\\\Task 3- Handwritten equation solver using CNN\\\\train images\\\\+\\\\')\n",
    "\n",
    "for i in range(0,len(data11)):\n",
    "    data11[i]=np.append(data11[i],['11'])\n",
    "data=np.concatenate((data,data11))\n",
    "print(len(data))"
   ]
  },
  {
   "cell_type": "code",
   "execution_count": null,
   "id": "1b843a45",
   "metadata": {},
   "outputs": [],
   "source": [
    "data0=load_images_from_folder('D:\\\\LGMVIP-Data Science\\\\Advanced Level Task\\\\Task 3- Handwritten equation solver using CNN\\\\train images\\\\0\\\\')\n",
    "\n",
    "for i in range(0,len(data0)):\n",
    "    data0[i]=np.append(data0[i],['0'])\n",
    "data=np.concatenate((data,data0))\n",
    "print(len(data))"
   ]
  },
  {
   "cell_type": "code",
   "execution_count": null,
   "id": "1752f8f1",
   "metadata": {},
   "outputs": [],
   "source": [
    "data1=load_images_from_folder('D:\\\\LGMVIP-Data Science\\\\Advanced Level Task\\\\Task 3- Handwritten equation solver using CNN\\\\train images\\\\1\\\\')\n",
    "\n",
    "for i in range(0,len(data1)):\n",
    "    data1[i]=np.append(data1[i],['1'])\n",
    "data=np.concatenate((data,data1))\n",
    "print(len(data))"
   ]
  },
  {
   "cell_type": "code",
   "execution_count": null,
   "id": "79b0014d",
   "metadata": {},
   "outputs": [],
   "source": [
    "data2=load_images_from_folder('D:\\\\LGMVIP-Data Science\\\\Advanced Level Task\\\\Task 3- Handwritten equation solver using CNN\\\\train images\\\\2\\\\')\n",
    "\n",
    "for i in range(0,len(data2)):\n",
    "    data2[i]=np.append(data2[i],['2'])\n",
    "data=np.concatenate((data,data2))\n",
    "print(len(data))"
   ]
  },
  {
   "cell_type": "code",
   "execution_count": null,
   "id": "81a5b132",
   "metadata": {},
   "outputs": [],
   "source": [
    "data3=load_images_from_folder('D:\\\\LGMVIP-Data Science\\\\Advanced Level Task\\\\Task 3- Handwritten equation solver using CNN\\\\train images\\\\3\\\\')\n",
    "\n",
    "for i in range(0,len(data3)):\n",
    "    data3[i]=np.append(data3[i],['3'])\n",
    "data=np.concatenate((data,data3))\n",
    "print(len(data))"
   ]
  },
  {
   "cell_type": "code",
   "execution_count": null,
   "id": "545c6837",
   "metadata": {},
   "outputs": [],
   "source": [
    "data4=load_images_from_folder('D:\\\\LGMVIP-Data Science\\\\Advanced Level Task\\\\Task 3- Handwritten equation solver using CNN\\\\train images\\\\4\\\\')\n",
    "\n",
    "for i in range(0,len(data4)):\n",
    "    data4[i]=np.append(data4[i],['4'])\n",
    "data=np.concatenate((data,data4))\n",
    "print(len(data))"
   ]
  },
  {
   "cell_type": "code",
   "execution_count": null,
   "id": "654afada",
   "metadata": {},
   "outputs": [],
   "source": [
    "data5=load_images_from_folder('D:\\\\LGMVIP-Data Science\\Advanced Level Task\\\\Task 3- Handwritten equation solver using CNN\\\\train images\\\\5\\\\')\n",
    "\n",
    "for i in range(0,len(data5)):\n",
    "    data5[i]=np.append(data5[i],['5'])\n",
    "data=np.concatenate((data,data5))\n",
    "print(len(data))"
   ]
  },
  {
   "cell_type": "code",
   "execution_count": null,
   "id": "d63cb597",
   "metadata": {},
   "outputs": [],
   "source": [
    "data6=load_images_from_folder('D:\\\\LGMVIP-Data Science\\\\Advanced Level Task\\\\Task 3- Handwritten equation solver using CNN\\\\train images\\\\6\\\\')\n",
    "\n",
    "for i in range(0,len(data6)):\n",
    "    data6[i]=np.append(data6[i],['6'])\n",
    "data=np.concatenate((data,data6))\n",
    "print(len(data))"
   ]
  },
  {
   "cell_type": "code",
   "execution_count": null,
   "id": "55662ee6",
   "metadata": {},
   "outputs": [],
   "source": [
    "data7=load_images_from_folder('D:\\\\LGMVIP-Data Science\\\\Advanced Level Task\\\\Task 3- Handwritten equation solver using CNN\\\\train images\\\\7\\\\')\n",
    "\n",
    "for i in range(0,len(data7)):\n",
    "    data7[i]=np.append(data7[i],['7'])\n",
    "data=np.concatenate((data,data7))\n",
    "print(len(data))"
   ]
  },
  {
   "cell_type": "code",
   "execution_count": null,
   "id": "4024c79a",
   "metadata": {},
   "outputs": [],
   "source": [
    "data8=load_images_from_folder('D:\\\\LGMVIP-Data Science\\\\Advanced Level Task\\\\Task 3- Handwritten equation solver using CNN\\\\train images\\\\8\\\\')\n",
    "\n",
    "for i in range(0,len(data8)):\n",
    "    data8[i]=np.append(data8[i],['8'])\n",
    "data=np.concatenate((data,data8))\n",
    "print(len(data))"
   ]
  },
  {
   "cell_type": "code",
   "execution_count": null,
   "id": "db07a5c4",
   "metadata": {},
   "outputs": [],
   "source": [
    "data9=load_images_from_folder('D:\\\\LGMVIP-Data Science\\\\Advanced Level Task\\\\Task 3- Handwritten equation solver using CNN\\\\train images\\\\9\\\\')\n",
    "\n",
    "for i in range(0,len(data9)):\n",
    "    data9[i]=np.append(data9[i],['9'])\n",
    "data=np.concatenate((data,data9))\n",
    "print(len(data))"
   ]
  },
  {
   "cell_type": "code",
   "execution_count": null,
   "id": "6641f56c",
   "metadata": {},
   "outputs": [],
   "source": [
    "#assign * = 12\n",
    "data12=load_images_from_folder('D:\\\\LGMVIP-Data Science\\\\Advanced Level Task\\\\Task 3- Handwritten equation solver using CNN\\\\train images\\\\times\\\\')\n",
    "\n",
    "for i in range(0,len(data12)):\n",
    "    data12[i]=np.append(data12[i],['12'])\n",
    "data=np.concatenate((data,data12))\n",
    "print(len(data))"
   ]
  },
  {
   "cell_type": "code",
   "execution_count": null,
   "id": "763f1f2e",
   "metadata": {},
   "outputs": [],
   "source": [
    "df=pd.DataFrame(data,index=None)\n",
    "df.to_csv('train_final.csv',index=False)"
   ]
  },
  {
   "cell_type": "code",
   "execution_count": null,
   "id": "c748d04c",
   "metadata": {},
   "outputs": [],
   "source": []
  }
 ],
 "metadata": {
  "kernelspec": {
   "display_name": "Python 3 (ipykernel)",
   "language": "python",
   "name": "python3"
  },
  "language_info": {
   "codemirror_mode": {
    "name": "ipython",
    "version": 3
   },
   "file_extension": ".py",
   "mimetype": "text/x-python",
   "name": "python",
   "nbconvert_exporter": "python",
   "pygments_lexer": "ipython3",
   "version": "3.9.12"
  }
 },
 "nbformat": 4,
 "nbformat_minor": 5
}
